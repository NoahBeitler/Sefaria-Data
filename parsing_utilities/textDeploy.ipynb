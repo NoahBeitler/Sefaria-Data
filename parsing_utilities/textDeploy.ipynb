{
 "cells": [
  {
   "cell_type": "markdown",
   "metadata": {},
   "source": [
    "# Text Deploy\n",
    "\n",
    "\n",
    "Using the `move_draft_text` script is simple enough. I find though that many deploys require some stage of manual coding. Other cases, such as multi-text deploys, require running the script lots of times, which can be a drain on an engineers time. This notebook is a collection of code I've written that helps make these deploys a lot easier.\n"
   ]
  },
  {
   "cell_type": "code",
   "execution_count": null,
   "metadata": {
    "pycharm": {
     "is_executing": false,
     "name": "#%%\n"
    }
   },
   "outputs": [],
   "source": [
    "import os\n",
    "import sys\n",
    "import django\n",
    "\n",
    "SEFARIA_PROJECT_PATH = os.environ['SEFARIA_PROJECT_PATH']\n",
    "\n",
    "\n"
   ]
  },
  {
   "cell_type": "markdown",
   "metadata": {},
   "source": [
    "I like to use an environment variable to set the script path."
   ]
  },
  {
   "cell_type": "code",
   "execution_count": null,
   "metadata": {},
   "outputs": [],
   "source": [
    "if SEFARIA_PROJECT_PATH not in sys.path:\n",
    "    sys.path.append(SEFARIA_PROJECT_PATH)\n",
    "sys.path.append(f'{SEFARIA_PROJECT_PATH}/scripts')"
   ]
  },
  {
   "cell_type": "markdown",
   "metadata": {},
   "source": [
    "When running from the root of the Sefaria-Project directory, this logic can be simplified to:"
   ]
  },
  {
   "cell_type": "code",
   "execution_count": null,
   "metadata": {},
   "outputs": [],
   "source": [
    "sys.path.append('./scripts')"
   ]
  },
  {
   "cell_type": "code",
   "execution_count": null,
   "metadata": {},
   "outputs": [],
   "source": [
    "django.setup()\n",
    "from sefaria.model import *\n",
    "from move_draft_text import ServerTextCopier"
   ]
  },
  {
   "cell_type": "markdown",
   "metadata": {},
   "source": [
    "Set the destination as needed. As before, I recommend reading the apikey from the environment, but to each his/her own. These values need to be set in order to initialize a `ServerTextCopier` but do not technically need to be _correct_ if an api call is not being made."
   ]
  },
  {
   "cell_type": "code",
   "execution_count": null,
   "metadata": {},
   "outputs": [],
   "source": [
    "dest = 'https://www.sefaria.org'\n",
    "apikey = os.environ['APIKEY']"
   ]
  },
  {
   "cell_type": "markdown",
   "metadata": {},
   "source": [
    "We now need some titles for the deploy."
   ]
  },
  {
   "cell_type": "code",
   "execution_count": null,
   "metadata": {},
   "outputs": [],
   "source": [
    "titles = library.get_indexes_in_category('Abarbanel')"
   ]
  },
  {
   "cell_type": "markdown",
   "metadata": {},
   "source": [
    "If the criteria for uploading texts is complex, we can do this in two steps by loading up full indices and then filtering them on some criteria, e.g."
   ]
  },
  {
   "cell_type": "code",
   "execution_count": null,
   "metadata": {},
   "outputs": [],
   "source": [
    "indices = library.get_indexes_in_category(\"Abarbanel\", include_dependant=True, full_records=True)\n",
    "titles = [i.title for i in indices if 'Prophets' in i.categories]"
   ]
  },
  {
   "cell_type": "code",
   "execution_count": null,
   "metadata": {},
   "outputs": [],
   "source": [
    "def upload_indices(text_title):\n",
    "    copier = ServerTextCopier(dest, apikey, text_title, post_index=True,)\n",
    "    copier.do_copy()\n",
    "    \n",
    "def upload_versions(text_title):\n",
    "    copier = ServerTextCopier(dest, apikey, text_title, post_index=False, versions='all')\n",
    "    copier.do_copy()\n",
    "    \n",
    "def upload_links(text_title):\n",
    "    copier = ServerTextCopier(dest, apikey, text_title, post_index=False, post_links=2)\n",
    "    copier.do_copy()"
   ]
  },
  {
   "cell_type": "markdown",
   "metadata": {},
   "source": [
    "I'm going to leave it to the developer to iterate over the titles and perform the necessary upload"
   ]
  },
  {
   "cell_type": "code",
   "execution_count": null,
   "metadata": {},
   "outputs": [],
   "source": [
    "for t in titles:\n",
    "    pass"
   ]
  },
  {
   "cell_type": "markdown",
   "metadata": {},
   "source": [
    "Here we will aggregate our links and then dump them to a json file. These can then be imported via the backend on another server"
   ]
  },
  {
   "cell_type": "code",
   "execution_count": null,
   "metadata": {},
   "outputs": [],
   "source": [
    "import json\n",
    "links = []\n",
    "export_filename = 'links_json.json'  # feel free to change this\n",
    "for t in titles:\n",
    "    copier = ServerTextCopier(dest, apikey, t, post_index=False, post_links=2)\n",
    "    copier.load_objects()\n",
    "    links += [l.contents() for l in copier._linkset if not getattr(l, 'source_text_oid', None)]\n",
    "with open(export_filename, 'w') as fp:\n",
    "    json.dump(links, fp)"
   ]
  },
  {
   "cell_type": "markdown",
   "metadata": {},
   "source": [
    "This is code we can use on the destination server to import a links json file"
   ]
  },
  {
   "cell_type": "code",
   "execution_count": null,
   "metadata": {},
   "outputs": [],
   "source": [
    "import json\n",
    "from sefaria import tracker\n",
    "from sefaria.system.exceptions import DuplicateRecordError\n",
    "from sefaria.local_settings import USE_VARNISH\n",
    "from sefaria.system.varnish.wrapper import invalidate_ref"
   ]
  },
  {
   "cell_type": "code",
   "execution_count": null,
   "metadata": {},
   "outputs": [],
   "source": [
    "import_filename = 'foo'\n",
    "with open(import_filenam) as fp:\n",
    "    links = json.load(fp)"
   ]
  },
  {
   "cell_type": "code",
   "execution_count": null,
   "metadata": {},
   "outputs": [],
   "source": [
    "def revarnish_link(link_obj):\n",
    "    if USE_VARNISH:\n",
    "        for ref in link_obj.refs:\n",
    "            invalidate_ref(Ref(ref), purge=True)"
   ]
  },
  {
   "cell_type": "code",
   "execution_count": null,
   "metadata": {},
   "outputs": [],
   "source": [
    "def create_link_saver(uid):\n",
    "    def save_link(link_dict):\n",
    "        try:\n",
    "            link_obj = tracker.add(uid, Link, link_dict)\n",
    "            success = True\n",
    "        except DuplicateRecordError as e:\n",
    "            success = False\n",
    "            print(e)\n",
    "        if USE_VARNISH and success:\n",
    "            try:\n",
    "                revarnish_link(link_obj)\n",
    "            except Exception as e:\n",
    "                print(e)\n",
    "    return save_link"
   ]
  },
  {
   "cell_type": "markdown",
   "metadata": {},
   "source": [
    "Set `uid` to something normal. Preferrabley your **actual** user id."
   ]
  },
  {
   "cell_type": "code",
   "execution_count": null,
   "metadata": {},
   "outputs": [],
   "source": [
    "uid = 9e9\n",
    "link_saver = create_link_saver(uid)"
   ]
  },
  {
   "cell_type": "code",
   "execution_count": null,
   "metadata": {},
   "outputs": [],
   "source": [
    "for i, l in enumerate(links, 1):\n",
    "    print(f'{i}/{len(links)}')\n",
    "    link_saver(l)"
   ]
  },
  {
   "cell_type": "markdown",
   "metadata": {},
   "source": [
    "### Importing Versions\n",
    "\n",
    "For uploading `Versions` I like to use the backend functions which are used to upload csv files. Use the _download csv_ option on whichever server the version you are deploying to obtain the relevant csv. Then upload said csv to the destination server through kubernetes:\n",
    "\n",
    "`kubectl cp <filename> <pod>:<path>`\n",
    "\n",
    "We can then run the following snippet on the destination server backend:"
   ]
  },
  {
   "cell_type": "code",
   "execution_count": null,
   "metadata": {},
   "outputs": [],
   "source": [
    "from sefaria.export import import_versions_from_stream\n",
    "\n",
    "with open(filename, ‘rb’) as fp:\n",
    "    import_versions_from_stream(fp, [1], <user_id>)"
   ]
  },
  {
   "cell_type": "code",
   "execution_count": null,
   "metadata": {},
   "outputs": [],
   "source": []
  }
 ],
 "metadata": {
  "kernelspec": {
   "display_name": "Python 3",
   "language": "python",
   "name": "python3"
  },
  "language_info": {
   "codemirror_mode": {
    "name": "ipython",
    "version": 3
   },
   "file_extension": ".py",
   "mimetype": "text/x-python",
   "name": "python",
   "nbconvert_exporter": "python",
   "pygments_lexer": "ipython3",
   "version": "3.7.5"
  },
  "pycharm": {
   "stem_cell": {
    "cell_type": "raw",
    "metadata": {
     "collapsed": false
    },
    "source": []
   }
  }
 },
 "nbformat": 4,
 "nbformat_minor": 1
}
